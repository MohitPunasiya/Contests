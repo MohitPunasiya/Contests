{
  "cells": [
    {
      "cell_type": "markdown",
      "metadata": {
        "id": "view-in-github",
        "colab_type": "text"
      },
      "source": [
        "<a href=\"https://colab.research.google.com/github/MohitPunasiya/Contests/blob/main/nba_rookie.ipynb\" target=\"_parent\"><img src=\"https://colab.research.google.com/assets/colab-badge.svg\" alt=\"Open In Colab\"/></a>"
      ]
    },
    {
      "cell_type": "code",
      "execution_count": null,
      "metadata": {
        "id": "M06ELe68EIGH"
      },
      "outputs": [],
      "source": [
        "import pandas as pd\n",
        "import numpy as np\n",
        "import matplotlib.pyplot as plt\n",
        "import seaborn as sns"
      ]
    },
    {
      "cell_type": "code",
      "execution_count": null,
      "metadata": {
        "id": "ts_bo7UyEnKx"
      },
      "outputs": [],
      "source": [
        "data = pd.read_csv('/content/drive/MyDrive/nba_rookie/Train_data.csv')"
      ]
    },
    {
      "cell_type": "code",
      "execution_count": null,
      "metadata": {
        "colab": {
          "base_uri": "https://localhost:8080/",
          "height": 206
        },
        "id": "xnXwNt8gE0cu",
        "outputId": "94994998-5faf-4e1e-8902-09d234e4dcd4"
      },
      "outputs": [
        {
          "output_type": "execute_result",
          "data": {
            "text/plain": [
              "     GP   MIN   PTS  FGM  FGA   FG%  3P Made  3PA   3P%  FTM  FTA   FT%  OREB  \\\n",
              "0  59.0  12.8   3.4  1.3  2.6  51.0      0.2  0.3  50.0  0.7  0.8  78.0   1.1   \n",
              "1  31.0  10.7   3.4  1.2  3.3  35.3      0.5  2.1  25.8  0.5  0.9  55.2   0.3   \n",
              "2  48.0   9.3   4.5  1.7  3.4  49.7      0.0  0.1   0.0  1.2  1.9  61.5   0.4   \n",
              "3  80.0  27.7  11.2  3.5  9.4  37.4      1.3  4.1  32.9  2.8  3.3  85.0   0.8   \n",
              "4  58.0  18.4   5.8  1.9  5.3  36.7      0.0  0.1  25.0  1.9  3.1  61.7   0.5   \n",
              "\n",
              "   DREB  REB  AST  STL  BLK  TOV  Target  \n",
              "0   2.3  3.3  0.5  0.3  0.4  0.5       1  \n",
              "1   1.1  1.4  0.4  0.3  0.1  0.2       0  \n",
              "2   0.8  1.2  0.8  0.5  0.4  1.0       0  \n",
              "3   1.6  2.4  3.9  1.3  0.1  2.2       1  \n",
              "4   0.7  1.2  1.9  1.1  0.2  1.7       0  "
            ],
            "text/html": [
              "\n",
              "  <div id=\"df-c2f06cad-b31e-4711-9734-f2dd319f0d8a\">\n",
              "    <div class=\"colab-df-container\">\n",
              "      <div>\n",
              "<style scoped>\n",
              "    .dataframe tbody tr th:only-of-type {\n",
              "        vertical-align: middle;\n",
              "    }\n",
              "\n",
              "    .dataframe tbody tr th {\n",
              "        vertical-align: top;\n",
              "    }\n",
              "\n",
              "    .dataframe thead th {\n",
              "        text-align: right;\n",
              "    }\n",
              "</style>\n",
              "<table border=\"1\" class=\"dataframe\">\n",
              "  <thead>\n",
              "    <tr style=\"text-align: right;\">\n",
              "      <th></th>\n",
              "      <th>GP</th>\n",
              "      <th>MIN</th>\n",
              "      <th>PTS</th>\n",
              "      <th>FGM</th>\n",
              "      <th>FGA</th>\n",
              "      <th>FG%</th>\n",
              "      <th>3P Made</th>\n",
              "      <th>3PA</th>\n",
              "      <th>3P%</th>\n",
              "      <th>FTM</th>\n",
              "      <th>FTA</th>\n",
              "      <th>FT%</th>\n",
              "      <th>OREB</th>\n",
              "      <th>DREB</th>\n",
              "      <th>REB</th>\n",
              "      <th>AST</th>\n",
              "      <th>STL</th>\n",
              "      <th>BLK</th>\n",
              "      <th>TOV</th>\n",
              "      <th>Target</th>\n",
              "    </tr>\n",
              "  </thead>\n",
              "  <tbody>\n",
              "    <tr>\n",
              "      <th>0</th>\n",
              "      <td>59.0</td>\n",
              "      <td>12.8</td>\n",
              "      <td>3.4</td>\n",
              "      <td>1.3</td>\n",
              "      <td>2.6</td>\n",
              "      <td>51.0</td>\n",
              "      <td>0.2</td>\n",
              "      <td>0.3</td>\n",
              "      <td>50.0</td>\n",
              "      <td>0.7</td>\n",
              "      <td>0.8</td>\n",
              "      <td>78.0</td>\n",
              "      <td>1.1</td>\n",
              "      <td>2.3</td>\n",
              "      <td>3.3</td>\n",
              "      <td>0.5</td>\n",
              "      <td>0.3</td>\n",
              "      <td>0.4</td>\n",
              "      <td>0.5</td>\n",
              "      <td>1</td>\n",
              "    </tr>\n",
              "    <tr>\n",
              "      <th>1</th>\n",
              "      <td>31.0</td>\n",
              "      <td>10.7</td>\n",
              "      <td>3.4</td>\n",
              "      <td>1.2</td>\n",
              "      <td>3.3</td>\n",
              "      <td>35.3</td>\n",
              "      <td>0.5</td>\n",
              "      <td>2.1</td>\n",
              "      <td>25.8</td>\n",
              "      <td>0.5</td>\n",
              "      <td>0.9</td>\n",
              "      <td>55.2</td>\n",
              "      <td>0.3</td>\n",
              "      <td>1.1</td>\n",
              "      <td>1.4</td>\n",
              "      <td>0.4</td>\n",
              "      <td>0.3</td>\n",
              "      <td>0.1</td>\n",
              "      <td>0.2</td>\n",
              "      <td>0</td>\n",
              "    </tr>\n",
              "    <tr>\n",
              "      <th>2</th>\n",
              "      <td>48.0</td>\n",
              "      <td>9.3</td>\n",
              "      <td>4.5</td>\n",
              "      <td>1.7</td>\n",
              "      <td>3.4</td>\n",
              "      <td>49.7</td>\n",
              "      <td>0.0</td>\n",
              "      <td>0.1</td>\n",
              "      <td>0.0</td>\n",
              "      <td>1.2</td>\n",
              "      <td>1.9</td>\n",
              "      <td>61.5</td>\n",
              "      <td>0.4</td>\n",
              "      <td>0.8</td>\n",
              "      <td>1.2</td>\n",
              "      <td>0.8</td>\n",
              "      <td>0.5</td>\n",
              "      <td>0.4</td>\n",
              "      <td>1.0</td>\n",
              "      <td>0</td>\n",
              "    </tr>\n",
              "    <tr>\n",
              "      <th>3</th>\n",
              "      <td>80.0</td>\n",
              "      <td>27.7</td>\n",
              "      <td>11.2</td>\n",
              "      <td>3.5</td>\n",
              "      <td>9.4</td>\n",
              "      <td>37.4</td>\n",
              "      <td>1.3</td>\n",
              "      <td>4.1</td>\n",
              "      <td>32.9</td>\n",
              "      <td>2.8</td>\n",
              "      <td>3.3</td>\n",
              "      <td>85.0</td>\n",
              "      <td>0.8</td>\n",
              "      <td>1.6</td>\n",
              "      <td>2.4</td>\n",
              "      <td>3.9</td>\n",
              "      <td>1.3</td>\n",
              "      <td>0.1</td>\n",
              "      <td>2.2</td>\n",
              "      <td>1</td>\n",
              "    </tr>\n",
              "    <tr>\n",
              "      <th>4</th>\n",
              "      <td>58.0</td>\n",
              "      <td>18.4</td>\n",
              "      <td>5.8</td>\n",
              "      <td>1.9</td>\n",
              "      <td>5.3</td>\n",
              "      <td>36.7</td>\n",
              "      <td>0.0</td>\n",
              "      <td>0.1</td>\n",
              "      <td>25.0</td>\n",
              "      <td>1.9</td>\n",
              "      <td>3.1</td>\n",
              "      <td>61.7</td>\n",
              "      <td>0.5</td>\n",
              "      <td>0.7</td>\n",
              "      <td>1.2</td>\n",
              "      <td>1.9</td>\n",
              "      <td>1.1</td>\n",
              "      <td>0.2</td>\n",
              "      <td>1.7</td>\n",
              "      <td>0</td>\n",
              "    </tr>\n",
              "  </tbody>\n",
              "</table>\n",
              "</div>\n",
              "      <button class=\"colab-df-convert\" onclick=\"convertToInteractive('df-c2f06cad-b31e-4711-9734-f2dd319f0d8a')\"\n",
              "              title=\"Convert this dataframe to an interactive table.\"\n",
              "              style=\"display:none;\">\n",
              "        \n",
              "  <svg xmlns=\"http://www.w3.org/2000/svg\" height=\"24px\"viewBox=\"0 0 24 24\"\n",
              "       width=\"24px\">\n",
              "    <path d=\"M0 0h24v24H0V0z\" fill=\"none\"/>\n",
              "    <path d=\"M18.56 5.44l.94 2.06.94-2.06 2.06-.94-2.06-.94-.94-2.06-.94 2.06-2.06.94zm-11 1L8.5 8.5l.94-2.06 2.06-.94-2.06-.94L8.5 2.5l-.94 2.06-2.06.94zm10 10l.94 2.06.94-2.06 2.06-.94-2.06-.94-.94-2.06-.94 2.06-2.06.94z\"/><path d=\"M17.41 7.96l-1.37-1.37c-.4-.4-.92-.59-1.43-.59-.52 0-1.04.2-1.43.59L10.3 9.45l-7.72 7.72c-.78.78-.78 2.05 0 2.83L4 21.41c.39.39.9.59 1.41.59.51 0 1.02-.2 1.41-.59l7.78-7.78 2.81-2.81c.8-.78.8-2.07 0-2.86zM5.41 20L4 18.59l7.72-7.72 1.47 1.35L5.41 20z\"/>\n",
              "  </svg>\n",
              "      </button>\n",
              "      \n",
              "  <style>\n",
              "    .colab-df-container {\n",
              "      display:flex;\n",
              "      flex-wrap:wrap;\n",
              "      gap: 12px;\n",
              "    }\n",
              "\n",
              "    .colab-df-convert {\n",
              "      background-color: #E8F0FE;\n",
              "      border: none;\n",
              "      border-radius: 50%;\n",
              "      cursor: pointer;\n",
              "      display: none;\n",
              "      fill: #1967D2;\n",
              "      height: 32px;\n",
              "      padding: 0 0 0 0;\n",
              "      width: 32px;\n",
              "    }\n",
              "\n",
              "    .colab-df-convert:hover {\n",
              "      background-color: #E2EBFA;\n",
              "      box-shadow: 0px 1px 2px rgba(60, 64, 67, 0.3), 0px 1px 3px 1px rgba(60, 64, 67, 0.15);\n",
              "      fill: #174EA6;\n",
              "    }\n",
              "\n",
              "    [theme=dark] .colab-df-convert {\n",
              "      background-color: #3B4455;\n",
              "      fill: #D2E3FC;\n",
              "    }\n",
              "\n",
              "    [theme=dark] .colab-df-convert:hover {\n",
              "      background-color: #434B5C;\n",
              "      box-shadow: 0px 1px 3px 1px rgba(0, 0, 0, 0.15);\n",
              "      filter: drop-shadow(0px 1px 2px rgba(0, 0, 0, 0.3));\n",
              "      fill: #FFFFFF;\n",
              "    }\n",
              "  </style>\n",
              "\n",
              "      <script>\n",
              "        const buttonEl =\n",
              "          document.querySelector('#df-c2f06cad-b31e-4711-9734-f2dd319f0d8a button.colab-df-convert');\n",
              "        buttonEl.style.display =\n",
              "          google.colab.kernel.accessAllowed ? 'block' : 'none';\n",
              "\n",
              "        async function convertToInteractive(key) {\n",
              "          const element = document.querySelector('#df-c2f06cad-b31e-4711-9734-f2dd319f0d8a');\n",
              "          const dataTable =\n",
              "            await google.colab.kernel.invokeFunction('convertToInteractive',\n",
              "                                                     [key], {});\n",
              "          if (!dataTable) return;\n",
              "\n",
              "          const docLinkHtml = 'Like what you see? Visit the ' +\n",
              "            '<a target=\"_blank\" href=https://colab.research.google.com/notebooks/data_table.ipynb>data table notebook</a>'\n",
              "            + ' to learn more about interactive tables.';\n",
              "          element.innerHTML = '';\n",
              "          dataTable['output_type'] = 'display_data';\n",
              "          await google.colab.output.renderOutput(dataTable, element);\n",
              "          const docLink = document.createElement('div');\n",
              "          docLink.innerHTML = docLinkHtml;\n",
              "          element.appendChild(docLink);\n",
              "        }\n",
              "      </script>\n",
              "    </div>\n",
              "  </div>\n",
              "  "
            ]
          },
          "metadata": {},
          "execution_count": 3
        }
      ],
      "source": [
        "data.head()"
      ]
    },
    {
      "cell_type": "markdown",
      "metadata": {
        "id": "3o2ebMAjJdW9"
      },
      "source": [
        "#EDA"
      ]
    },
    {
      "cell_type": "code",
      "execution_count": null,
      "metadata": {
        "id": "ul9QLNm3H6ei"
      },
      "outputs": [],
      "source": [
        "data['GP'] = data['GP'].apply(lambda x: np.floor(x))"
      ]
    },
    {
      "cell_type": "code",
      "execution_count": null,
      "metadata": {
        "colab": {
          "base_uri": "https://localhost:8080/",
          "height": 364
        },
        "id": "D-0AAz7_E4TI",
        "outputId": "f89cdf00-88ce-4c4c-95fd-e831027d36da"
      },
      "outputs": [
        {
          "output_type": "execute_result",
          "data": {
            "text/plain": [
              "                GP          MIN          PTS          FGM          FGA  \\\n",
              "count  1101.000000  1101.000000  1101.000000  1101.000000  1101.000000   \n",
              "mean     58.915531    16.928284     6.502344     2.511125     5.645747   \n",
              "std      17.264655     8.034209     4.163856     1.611502     3.422292   \n",
              "min      11.000000     3.100000     1.100000     0.400000     1.000000   \n",
              "25%      46.000000    10.492268     3.587756     1.400000     3.200000   \n",
              "50%      59.000000    15.386486     5.200000     2.000000     4.600000   \n",
              "75%      76.000000    21.830403     8.300000     3.200000     6.900000   \n",
              "max      82.000000    40.900000    24.300000     9.000000    18.900000   \n",
              "\n",
              "               FG%      3P Made          3PA          3P%          FTM  \\\n",
              "count  1101.000000  1101.000000  1101.000000  1101.000000  1101.000000   \n",
              "mean     43.912555     0.241959     0.767455    19.050425     1.241914   \n",
              "std       6.106910     0.363008     1.017214    15.513640     0.937585   \n",
              "min      25.000000     0.000000     0.000000     0.000000     0.000000   \n",
              "25%      40.000000     0.000000     0.000000     0.000000     0.600000   \n",
              "50%      43.652785     0.100000     0.300000    22.600000     1.000000   \n",
              "75%      47.700000     0.400000     1.195634    32.300000     1.600000   \n",
              "max      73.700000     2.300000     6.500000   100.000000     7.500000   \n",
              "\n",
              "               FTA          FT%         OREB         DREB          REB  \\\n",
              "count  1101.000000  1101.000000  1101.000000  1101.000000  1101.000000   \n",
              "mean      1.741848    70.495847     0.958240     1.937014     2.891927   \n",
              "std       1.272047    10.381068     0.771344     1.342627     2.039694   \n",
              "min       0.000000     0.000000     0.000000     0.200000     0.300000   \n",
              "25%       0.900000    64.900000     0.400000     1.000000     1.400000   \n",
              "50%       1.400000    71.502462     0.700000     1.600000     2.273596   \n",
              "75%       2.200000    77.436718     1.300000     2.500000     3.700000   \n",
              "max      10.200000   100.000000     5.300000     9.600000    13.900000   \n",
              "\n",
              "               AST          STL          BLK          TOV       Target  \n",
              "count  1101.000000  1101.000000  1101.000000  1101.000000  1101.000000  \n",
              "mean      1.472706     0.589403     0.344204     1.150499     0.499546  \n",
              "std       1.376592     0.386147     0.418840     0.687706     0.500227  \n",
              "min       0.000000     0.000000     0.000000     0.100000     0.000000  \n",
              "25%       0.600000     0.300000     0.100000     0.700000     0.000000  \n",
              "50%       1.041951     0.500000     0.200000     0.988945     0.000000  \n",
              "75%       1.900000     0.800000     0.400000     1.400000     1.000000  \n",
              "max      10.600000     2.500000     3.900000     4.200000     1.000000  "
            ],
            "text/html": [
              "\n",
              "  <div id=\"df-28b998c2-6789-46fe-a9ec-ae5ba0b8b950\">\n",
              "    <div class=\"colab-df-container\">\n",
              "      <div>\n",
              "<style scoped>\n",
              "    .dataframe tbody tr th:only-of-type {\n",
              "        vertical-align: middle;\n",
              "    }\n",
              "\n",
              "    .dataframe tbody tr th {\n",
              "        vertical-align: top;\n",
              "    }\n",
              "\n",
              "    .dataframe thead th {\n",
              "        text-align: right;\n",
              "    }\n",
              "</style>\n",
              "<table border=\"1\" class=\"dataframe\">\n",
              "  <thead>\n",
              "    <tr style=\"text-align: right;\">\n",
              "      <th></th>\n",
              "      <th>GP</th>\n",
              "      <th>MIN</th>\n",
              "      <th>PTS</th>\n",
              "      <th>FGM</th>\n",
              "      <th>FGA</th>\n",
              "      <th>FG%</th>\n",
              "      <th>3P Made</th>\n",
              "      <th>3PA</th>\n",
              "      <th>3P%</th>\n",
              "      <th>FTM</th>\n",
              "      <th>FTA</th>\n",
              "      <th>FT%</th>\n",
              "      <th>OREB</th>\n",
              "      <th>DREB</th>\n",
              "      <th>REB</th>\n",
              "      <th>AST</th>\n",
              "      <th>STL</th>\n",
              "      <th>BLK</th>\n",
              "      <th>TOV</th>\n",
              "      <th>Target</th>\n",
              "    </tr>\n",
              "  </thead>\n",
              "  <tbody>\n",
              "    <tr>\n",
              "      <th>count</th>\n",
              "      <td>1101.000000</td>\n",
              "      <td>1101.000000</td>\n",
              "      <td>1101.000000</td>\n",
              "      <td>1101.000000</td>\n",
              "      <td>1101.000000</td>\n",
              "      <td>1101.000000</td>\n",
              "      <td>1101.000000</td>\n",
              "      <td>1101.000000</td>\n",
              "      <td>1101.000000</td>\n",
              "      <td>1101.000000</td>\n",
              "      <td>1101.000000</td>\n",
              "      <td>1101.000000</td>\n",
              "      <td>1101.000000</td>\n",
              "      <td>1101.000000</td>\n",
              "      <td>1101.000000</td>\n",
              "      <td>1101.000000</td>\n",
              "      <td>1101.000000</td>\n",
              "      <td>1101.000000</td>\n",
              "      <td>1101.000000</td>\n",
              "      <td>1101.000000</td>\n",
              "    </tr>\n",
              "    <tr>\n",
              "      <th>mean</th>\n",
              "      <td>58.915531</td>\n",
              "      <td>16.928284</td>\n",
              "      <td>6.502344</td>\n",
              "      <td>2.511125</td>\n",
              "      <td>5.645747</td>\n",
              "      <td>43.912555</td>\n",
              "      <td>0.241959</td>\n",
              "      <td>0.767455</td>\n",
              "      <td>19.050425</td>\n",
              "      <td>1.241914</td>\n",
              "      <td>1.741848</td>\n",
              "      <td>70.495847</td>\n",
              "      <td>0.958240</td>\n",
              "      <td>1.937014</td>\n",
              "      <td>2.891927</td>\n",
              "      <td>1.472706</td>\n",
              "      <td>0.589403</td>\n",
              "      <td>0.344204</td>\n",
              "      <td>1.150499</td>\n",
              "      <td>0.499546</td>\n",
              "    </tr>\n",
              "    <tr>\n",
              "      <th>std</th>\n",
              "      <td>17.264655</td>\n",
              "      <td>8.034209</td>\n",
              "      <td>4.163856</td>\n",
              "      <td>1.611502</td>\n",
              "      <td>3.422292</td>\n",
              "      <td>6.106910</td>\n",
              "      <td>0.363008</td>\n",
              "      <td>1.017214</td>\n",
              "      <td>15.513640</td>\n",
              "      <td>0.937585</td>\n",
              "      <td>1.272047</td>\n",
              "      <td>10.381068</td>\n",
              "      <td>0.771344</td>\n",
              "      <td>1.342627</td>\n",
              "      <td>2.039694</td>\n",
              "      <td>1.376592</td>\n",
              "      <td>0.386147</td>\n",
              "      <td>0.418840</td>\n",
              "      <td>0.687706</td>\n",
              "      <td>0.500227</td>\n",
              "    </tr>\n",
              "    <tr>\n",
              "      <th>min</th>\n",
              "      <td>11.000000</td>\n",
              "      <td>3.100000</td>\n",
              "      <td>1.100000</td>\n",
              "      <td>0.400000</td>\n",
              "      <td>1.000000</td>\n",
              "      <td>25.000000</td>\n",
              "      <td>0.000000</td>\n",
              "      <td>0.000000</td>\n",
              "      <td>0.000000</td>\n",
              "      <td>0.000000</td>\n",
              "      <td>0.000000</td>\n",
              "      <td>0.000000</td>\n",
              "      <td>0.000000</td>\n",
              "      <td>0.200000</td>\n",
              "      <td>0.300000</td>\n",
              "      <td>0.000000</td>\n",
              "      <td>0.000000</td>\n",
              "      <td>0.000000</td>\n",
              "      <td>0.100000</td>\n",
              "      <td>0.000000</td>\n",
              "    </tr>\n",
              "    <tr>\n",
              "      <th>25%</th>\n",
              "      <td>46.000000</td>\n",
              "      <td>10.492268</td>\n",
              "      <td>3.587756</td>\n",
              "      <td>1.400000</td>\n",
              "      <td>3.200000</td>\n",
              "      <td>40.000000</td>\n",
              "      <td>0.000000</td>\n",
              "      <td>0.000000</td>\n",
              "      <td>0.000000</td>\n",
              "      <td>0.600000</td>\n",
              "      <td>0.900000</td>\n",
              "      <td>64.900000</td>\n",
              "      <td>0.400000</td>\n",
              "      <td>1.000000</td>\n",
              "      <td>1.400000</td>\n",
              "      <td>0.600000</td>\n",
              "      <td>0.300000</td>\n",
              "      <td>0.100000</td>\n",
              "      <td>0.700000</td>\n",
              "      <td>0.000000</td>\n",
              "    </tr>\n",
              "    <tr>\n",
              "      <th>50%</th>\n",
              "      <td>59.000000</td>\n",
              "      <td>15.386486</td>\n",
              "      <td>5.200000</td>\n",
              "      <td>2.000000</td>\n",
              "      <td>4.600000</td>\n",
              "      <td>43.652785</td>\n",
              "      <td>0.100000</td>\n",
              "      <td>0.300000</td>\n",
              "      <td>22.600000</td>\n",
              "      <td>1.000000</td>\n",
              "      <td>1.400000</td>\n",
              "      <td>71.502462</td>\n",
              "      <td>0.700000</td>\n",
              "      <td>1.600000</td>\n",
              "      <td>2.273596</td>\n",
              "      <td>1.041951</td>\n",
              "      <td>0.500000</td>\n",
              "      <td>0.200000</td>\n",
              "      <td>0.988945</td>\n",
              "      <td>0.000000</td>\n",
              "    </tr>\n",
              "    <tr>\n",
              "      <th>75%</th>\n",
              "      <td>76.000000</td>\n",
              "      <td>21.830403</td>\n",
              "      <td>8.300000</td>\n",
              "      <td>3.200000</td>\n",
              "      <td>6.900000</td>\n",
              "      <td>47.700000</td>\n",
              "      <td>0.400000</td>\n",
              "      <td>1.195634</td>\n",
              "      <td>32.300000</td>\n",
              "      <td>1.600000</td>\n",
              "      <td>2.200000</td>\n",
              "      <td>77.436718</td>\n",
              "      <td>1.300000</td>\n",
              "      <td>2.500000</td>\n",
              "      <td>3.700000</td>\n",
              "      <td>1.900000</td>\n",
              "      <td>0.800000</td>\n",
              "      <td>0.400000</td>\n",
              "      <td>1.400000</td>\n",
              "      <td>1.000000</td>\n",
              "    </tr>\n",
              "    <tr>\n",
              "      <th>max</th>\n",
              "      <td>82.000000</td>\n",
              "      <td>40.900000</td>\n",
              "      <td>24.300000</td>\n",
              "      <td>9.000000</td>\n",
              "      <td>18.900000</td>\n",
              "      <td>73.700000</td>\n",
              "      <td>2.300000</td>\n",
              "      <td>6.500000</td>\n",
              "      <td>100.000000</td>\n",
              "      <td>7.500000</td>\n",
              "      <td>10.200000</td>\n",
              "      <td>100.000000</td>\n",
              "      <td>5.300000</td>\n",
              "      <td>9.600000</td>\n",
              "      <td>13.900000</td>\n",
              "      <td>10.600000</td>\n",
              "      <td>2.500000</td>\n",
              "      <td>3.900000</td>\n",
              "      <td>4.200000</td>\n",
              "      <td>1.000000</td>\n",
              "    </tr>\n",
              "  </tbody>\n",
              "</table>\n",
              "</div>\n",
              "      <button class=\"colab-df-convert\" onclick=\"convertToInteractive('df-28b998c2-6789-46fe-a9ec-ae5ba0b8b950')\"\n",
              "              title=\"Convert this dataframe to an interactive table.\"\n",
              "              style=\"display:none;\">\n",
              "        \n",
              "  <svg xmlns=\"http://www.w3.org/2000/svg\" height=\"24px\"viewBox=\"0 0 24 24\"\n",
              "       width=\"24px\">\n",
              "    <path d=\"M0 0h24v24H0V0z\" fill=\"none\"/>\n",
              "    <path d=\"M18.56 5.44l.94 2.06.94-2.06 2.06-.94-2.06-.94-.94-2.06-.94 2.06-2.06.94zm-11 1L8.5 8.5l.94-2.06 2.06-.94-2.06-.94L8.5 2.5l-.94 2.06-2.06.94zm10 10l.94 2.06.94-2.06 2.06-.94-2.06-.94-.94-2.06-.94 2.06-2.06.94z\"/><path d=\"M17.41 7.96l-1.37-1.37c-.4-.4-.92-.59-1.43-.59-.52 0-1.04.2-1.43.59L10.3 9.45l-7.72 7.72c-.78.78-.78 2.05 0 2.83L4 21.41c.39.39.9.59 1.41.59.51 0 1.02-.2 1.41-.59l7.78-7.78 2.81-2.81c.8-.78.8-2.07 0-2.86zM5.41 20L4 18.59l7.72-7.72 1.47 1.35L5.41 20z\"/>\n",
              "  </svg>\n",
              "      </button>\n",
              "      \n",
              "  <style>\n",
              "    .colab-df-container {\n",
              "      display:flex;\n",
              "      flex-wrap:wrap;\n",
              "      gap: 12px;\n",
              "    }\n",
              "\n",
              "    .colab-df-convert {\n",
              "      background-color: #E8F0FE;\n",
              "      border: none;\n",
              "      border-radius: 50%;\n",
              "      cursor: pointer;\n",
              "      display: none;\n",
              "      fill: #1967D2;\n",
              "      height: 32px;\n",
              "      padding: 0 0 0 0;\n",
              "      width: 32px;\n",
              "    }\n",
              "\n",
              "    .colab-df-convert:hover {\n",
              "      background-color: #E2EBFA;\n",
              "      box-shadow: 0px 1px 2px rgba(60, 64, 67, 0.3), 0px 1px 3px 1px rgba(60, 64, 67, 0.15);\n",
              "      fill: #174EA6;\n",
              "    }\n",
              "\n",
              "    [theme=dark] .colab-df-convert {\n",
              "      background-color: #3B4455;\n",
              "      fill: #D2E3FC;\n",
              "    }\n",
              "\n",
              "    [theme=dark] .colab-df-convert:hover {\n",
              "      background-color: #434B5C;\n",
              "      box-shadow: 0px 1px 3px 1px rgba(0, 0, 0, 0.15);\n",
              "      filter: drop-shadow(0px 1px 2px rgba(0, 0, 0, 0.3));\n",
              "      fill: #FFFFFF;\n",
              "    }\n",
              "  </style>\n",
              "\n",
              "      <script>\n",
              "        const buttonEl =\n",
              "          document.querySelector('#df-28b998c2-6789-46fe-a9ec-ae5ba0b8b950 button.colab-df-convert');\n",
              "        buttonEl.style.display =\n",
              "          google.colab.kernel.accessAllowed ? 'block' : 'none';\n",
              "\n",
              "        async function convertToInteractive(key) {\n",
              "          const element = document.querySelector('#df-28b998c2-6789-46fe-a9ec-ae5ba0b8b950');\n",
              "          const dataTable =\n",
              "            await google.colab.kernel.invokeFunction('convertToInteractive',\n",
              "                                                     [key], {});\n",
              "          if (!dataTable) return;\n",
              "\n",
              "          const docLinkHtml = 'Like what you see? Visit the ' +\n",
              "            '<a target=\"_blank\" href=https://colab.research.google.com/notebooks/data_table.ipynb>data table notebook</a>'\n",
              "            + ' to learn more about interactive tables.';\n",
              "          element.innerHTML = '';\n",
              "          dataTable['output_type'] = 'display_data';\n",
              "          await google.colab.output.renderOutput(dataTable, element);\n",
              "          const docLink = document.createElement('div');\n",
              "          docLink.innerHTML = docLinkHtml;\n",
              "          element.appendChild(docLink);\n",
              "        }\n",
              "      </script>\n",
              "    </div>\n",
              "  </div>\n",
              "  "
            ]
          },
          "metadata": {},
          "execution_count": 5
        }
      ],
      "source": [
        "data.describe()"
      ]
    },
    {
      "cell_type": "code",
      "execution_count": null,
      "metadata": {
        "colab": {
          "base_uri": "https://localhost:8080/",
          "height": 165
        },
        "id": "Yspan3nXtCxT",
        "outputId": "0c6cd393-e3dd-4396-d6aa-e8c3a134ce02"
      },
      "outputs": [
        {
          "output_type": "error",
          "ename": "AttributeError",
          "evalue": "ignored",
          "traceback": [
            "\u001b[0;31m---------------------------------------------------------------------------\u001b[0m",
            "\u001b[0;31mAttributeError\u001b[0m                            Traceback (most recent call last)",
            "\u001b[0;32m<ipython-input-6-2c5dc7b0fe18>\u001b[0m in \u001b[0;36m<module>\u001b[0;34m()\u001b[0m\n\u001b[0;32m----> 1\u001b[0;31m \u001b[0msns\u001b[0m\u001b[0;34m.\u001b[0m\u001b[0mplot\u001b[0m\u001b[0;34m(\u001b[0m\u001b[0mx\u001b[0m\u001b[0;34m=\u001b[0m\u001b[0;34m'GP'\u001b[0m\u001b[0;34m,\u001b[0m\u001b[0mdata\u001b[0m\u001b[0;34m=\u001b[0m\u001b[0mdata\u001b[0m\u001b[0;34m)\u001b[0m\u001b[0;34m\u001b[0m\u001b[0;34m\u001b[0m\u001b[0m\n\u001b[0m",
            "\u001b[0;31mAttributeError\u001b[0m: module 'seaborn' has no attribute 'plot'"
          ]
        }
      ],
      "source": [
        "sns.plot(x='GP',data=data)"
      ]
    },
    {
      "cell_type": "code",
      "execution_count": null,
      "metadata": {
        "colab": {
          "base_uri": "https://localhost:8080/"
        },
        "id": "ObxcnGPLE-lW",
        "outputId": "96a7ab38-2cd9-42ae-ac51-3b3ea73e9849"
      },
      "outputs": [
        {
          "output_type": "stream",
          "name": "stdout",
          "text": [
            "<class 'pandas.core.frame.DataFrame'>\n",
            "RangeIndex: 1101 entries, 0 to 1100\n",
            "Data columns (total 20 columns):\n",
            " #   Column   Non-Null Count  Dtype  \n",
            "---  ------   --------------  -----  \n",
            " 0   GP       1101 non-null   float64\n",
            " 1   MIN      1101 non-null   float64\n",
            " 2   PTS      1101 non-null   float64\n",
            " 3   FGM      1101 non-null   float64\n",
            " 4   FGA      1101 non-null   float64\n",
            " 5   FG%      1101 non-null   float64\n",
            " 6   3P Made  1101 non-null   float64\n",
            " 7   3PA      1101 non-null   float64\n",
            " 8   3P%      1101 non-null   float64\n",
            " 9   FTM      1101 non-null   float64\n",
            " 10  FTA      1101 non-null   float64\n",
            " 11  FT%      1101 non-null   float64\n",
            " 12  OREB     1101 non-null   float64\n",
            " 13  DREB     1101 non-null   float64\n",
            " 14  REB      1101 non-null   float64\n",
            " 15  AST      1101 non-null   float64\n",
            " 16  STL      1101 non-null   float64\n",
            " 17  BLK      1101 non-null   float64\n",
            " 18  TOV      1101 non-null   float64\n",
            " 19  Target   1101 non-null   int64  \n",
            "dtypes: float64(19), int64(1)\n",
            "memory usage: 172.2 KB\n"
          ]
        }
      ],
      "source": [
        "data.info()"
      ]
    },
    {
      "cell_type": "code",
      "execution_count": null,
      "metadata": {
        "id": "Kco92K1HFAj-"
      },
      "outputs": [],
      "source": [
        "from sklearn.preprocessing import MinMaxScaler\n",
        "from sklearn.model_selection import train_test_split"
      ]
    },
    {
      "cell_type": "markdown",
      "metadata": {
        "id": "jqMihflRPkZW"
      },
      "source": [
        "#DNN"
      ]
    },
    {
      "cell_type": "code",
      "execution_count": null,
      "metadata": {
        "id": "8B5XVLdeFcqh"
      },
      "outputs": [],
      "source": [
        "from tensorflow.keras.models import Sequential\n",
        "from tensorflow.keras.layers import Dense,Dropout\n",
        "import tensorflow as tf"
      ]
    },
    {
      "cell_type": "code",
      "execution_count": null,
      "metadata": {
        "id": "VSCPcT5BGLMW"
      },
      "outputs": [],
      "source": [
        "X = data.drop('Target',axis=1)\n",
        "y = data['Target']"
      ]
    },
    {
      "cell_type": "code",
      "execution_count": null,
      "metadata": {
        "id": "6Uci7n4lFihu"
      },
      "outputs": [],
      "source": [
        "X_train, X_test, y_train, y_test = train_test_split(X, y, test_size=0.20, random_state=2)"
      ]
    },
    {
      "cell_type": "code",
      "execution_count": null,
      "metadata": {
        "id": "I9DZv6SMFpLW"
      },
      "outputs": [],
      "source": [
        "scaler = MinMaxScaler()\n",
        "scaler.fit(X_train)\n",
        "X_train = scaler.transform(X_train)\n",
        "X_test = scaler.transform(X_test)"
      ]
    },
    {
      "cell_type": "code",
      "execution_count": null,
      "metadata": {
        "id": "-eO2_yLPJ6Zl"
      },
      "outputs": [],
      "source": [
        "X_train"
      ]
    },
    {
      "cell_type": "code",
      "execution_count": null,
      "metadata": {
        "id": "TfH271DNFtFy"
      },
      "outputs": [],
      "source": [
        "model = Sequential()\n",
        "model.add(Dense(40,activation='relu', kernel_regularizer=tf.keras.regularizers.L1(00.001),\n",
        "    activity_regularizer=tf.keras.regularizers.L2(0.001)))\n",
        "model.add(Dense(30,activation='relu'))\n",
        "model.add(Dropout(0.2))\n",
        "model.add(Dense(20,activation='relu'))\n",
        "model.add(Dense(20,activation='relu'))\n",
        "model.add(Dense(1,activation='sigmoid'))\n",
        "opt  = tf.keras.optimizers.Adam(\n",
        "    learning_rate=0.01,\n",
        "    beta_1=0.9,\n",
        "    beta_2=0.999,\n",
        "    epsilon=1e-07,\n",
        "    amsgrad=False,\n",
        "    name='Adam'\n",
        ")\n",
        "#opt = tf.keras.optimizers.SGD(learning_rate=0.001)\n",
        "model.compile(optimizer=opt,loss='binary_crossentropy',metrics= ['accuracy'])"
      ]
    },
    {
      "cell_type": "code",
      "execution_count": null,
      "metadata": {
        "id": "8UBDYuRbFwXK"
      },
      "outputs": [],
      "source": [
        "import keras\n",
        "checkpoint_filepath = 'weights.{epoch:02d}-{val_loss:.2f}.h5'\n",
        "model_checkpoint_callback = keras.callbacks.ModelCheckpoint(\n",
        "    filepath=checkpoint_filepath,\n",
        "    monitor='val_accuracy',\n",
        "    mode='max',\n",
        "    save_best_only=True)\n",
        "model.fit(X_train,y_train,validation_data = (X_test,y_test),epochs=20000,batch_size=50,callbacks=[model_checkpoint_callback])"
      ]
    },
    {
      "cell_type": "code",
      "execution_count": null,
      "metadata": {
        "id": "kxwjjd1LFxHp"
      },
      "outputs": [],
      "source": [
        "model.evaluate(X_test,y_test)"
      ]
    },
    {
      "cell_type": "code",
      "execution_count": null,
      "metadata": {
        "id": "QHOkJ6wvfC6l"
      },
      "outputs": [],
      "source": [
        "model_for_test = keras.models.load_model('/content/weights.35-0.57.h5')"
      ]
    },
    {
      "cell_type": "markdown",
      "metadata": {
        "id": "LOnvjY_oLnGu"
      },
      "source": [
        "##SVM"
      ]
    },
    {
      "cell_type": "code",
      "execution_count": null,
      "metadata": {
        "colab": {
          "base_uri": "https://localhost:8080/"
        },
        "id": "l1_sabC8Lm0L",
        "outputId": "2465a507-9cac-4718-fb9c-19a5c0340f59"
      },
      "outputs": [
        {
          "name": "stdout",
          "output_type": "stream",
          "text": [
            "Fitting 5 folds for each of 50 candidates, totalling 250 fits\n"
          ]
        },
        {
          "data": {
            "text/plain": [
              "GridSearchCV(estimator=SVC(),\n",
              "             param_grid={'C': [0.1, 1, 10, 100, 1000],\n",
              "                         'gamma': [1, 0.1, 0.01, 0.001, 0.0001],\n",
              "                         'kernel': ['rbf', 'sigmoid']},\n",
              "             verbose=1)"
            ]
          },
          "execution_count": 50,
          "metadata": {},
          "output_type": "execute_result"
        }
      ],
      "source": [
        "from sklearn.svm import SVC\n",
        "from sklearn.model_selection import GridSearchCV\n",
        "param_grid = {'C': [0.1,1, 10, 100, 1000], 'gamma': [1,0.1,0.01,0.001,0.0001], 'kernel': [ 'rbf', 'sigmoid']} \n",
        "gs_SVC = GridSearchCV(SVC(),param_grid,refit=True,verbose=1)\n",
        "gs_SVC.fit(X_train,y_train)"
      ]
    },
    {
      "cell_type": "code",
      "execution_count": null,
      "metadata": {
        "colab": {
          "base_uri": "https://localhost:8080/"
        },
        "id": "Ls1lfCzjL8yC",
        "outputId": "3953d427-13b9-4812-f950-a524e41dabbc"
      },
      "outputs": [
        {
          "name": "stdout",
          "output_type": "stream",
          "text": [
            "BestParameters: {'C': 1000, 'gamma': 0.01, 'kernel': 'sigmoid'}\n",
            "BestScore: 0.6906876264019121\n"
          ]
        }
      ],
      "source": [
        "print('BestParameters:', gs_SVC.best_params_)\n",
        "print('BestScore:',gs_SVC.best_score_)"
      ]
    },
    {
      "cell_type": "markdown",
      "metadata": {
        "id": "-9jvhM1yNNCu"
      },
      "source": [
        "#Random Forest"
      ]
    },
    {
      "cell_type": "code",
      "execution_count": null,
      "metadata": {
        "colab": {
          "background_save": true
        },
        "id": "YHZW7QJ9NRwC"
      },
      "outputs": [],
      "source": [
        "from sklearn.ensemble import RandomForestClassifier\n",
        "param_grid = {'n_estimators': np.arange(5,100), 'max_depth': np.arange(5,125,1),'max_features' :(\"auto\", \"sqrt\")} \n",
        "gs_rfc = GridSearchCV(RandomForestClassifier(),param_grid,refit=True,verbose=1)\n",
        "gs_rfc.fit(X_train,y_train)"
      ]
    },
    {
      "cell_type": "code",
      "execution_count": null,
      "metadata": {
        "colab": {
          "background_save": true
        },
        "id": "ouyYmLHzNUzC"
      },
      "outputs": [],
      "source": [
        "print('Best Parameters:',gs_rfc.best_params_)\n",
        "print('BestScore:',gs_rfc.best_score_)"
      ]
    },
    {
      "cell_type": "markdown",
      "metadata": {
        "id": "xiLENSVpNZFz"
      },
      "source": [
        "#Ensemble"
      ]
    },
    {
      "cell_type": "code",
      "execution_count": null,
      "metadata": {
        "id": "hIz7LsCITBZ0"
      },
      "outputs": [],
      "source": [
        "from sklearn.metrics import confusion_matrix,classification_report"
      ]
    },
    {
      "cell_type": "code",
      "execution_count": null,
      "metadata": {
        "colab": {
          "base_uri": "https://localhost:8080/"
        },
        "id": "XtwSVTFATNUz",
        "outputId": "9d664295-0faa-4408-e4cf-02678dc48f58"
      },
      "outputs": [
        {
          "data": {
            "text/plain": [
              "array([[93, 17],\n",
              "       [54, 57]])"
            ]
          },
          "execution_count": 165,
          "metadata": {},
          "output_type": "execute_result"
        }
      ],
      "source": [
        "confusion_matrix(y_test,final_pred)"
      ]
    },
    {
      "cell_type": "code",
      "execution_count": null,
      "metadata": {
        "colab": {
          "base_uri": "https://localhost:8080/"
        },
        "id": "CtSXNLylTSxT",
        "outputId": "d1a57f69-38f0-4d19-819b-a409f1189e65"
      },
      "outputs": [
        {
          "name": "stdout",
          "output_type": "stream",
          "text": [
            "              precision    recall  f1-score   support\n",
            "\n",
            "           0       0.63      0.77      0.70       110\n",
            "           1       0.71      0.56      0.63       111\n",
            "\n",
            "    accuracy                           0.67       221\n",
            "   macro avg       0.67      0.67      0.66       221\n",
            "weighted avg       0.67      0.67      0.66       221\n",
            "\n"
          ]
        }
      ],
      "source": [
        "print(classification_report(y_test,pred1))"
      ]
    },
    {
      "cell_type": "code",
      "execution_count": null,
      "metadata": {
        "colab": {
          "base_uri": "https://localhost:8080/"
        },
        "id": "5r7A9fDtVV8F",
        "outputId": "bf4777e4-8a4e-4fa1-93ec-49fcf7163982"
      },
      "outputs": [
        {
          "name": "stderr",
          "output_type": "stream",
          "text": [
            "/usr/local/lib/python3.7/dist-packages/sklearn/linear_model/_logistic.py:1479: UserWarning: l1_ratio parameter is only used when penalty is 'elasticnet'. Got (penalty=l2)\n",
            "  \"(penalty={})\".format(self.penalty)\n"
          ]
        },
        {
          "name": "stdout",
          "output_type": "stream",
          "text": [
            "Sklearn Max Voting Classifier Accuracy: 72.25274725274726\n"
          ]
        },
        {
          "name": "stderr",
          "output_type": "stream",
          "text": [
            "/usr/local/lib/python3.7/dist-packages/sklearn/neural_network/_multilayer_perceptron.py:696: ConvergenceWarning: Stochastic Optimizer: Maximum iterations (200) reached and the optimization hasn't converged yet.\n",
            "  ConvergenceWarning,\n"
          ]
        }
      ],
      "source": [
        "from sklearn.metrics import accuracy_score\n",
        "from sklearn.ensemble import VotingClassifier\n",
        "from sklearn.ensemble import RandomForestClassifier\n",
        "from sklearn.neighbors import KNeighborsClassifier\n",
        "from sklearn.linear_model import LogisticRegression\n",
        "from sklearn.svm import SVC\n",
        "from sklearn.neural_network import MLPClassifier\n",
        "\n",
        "knn_classifier = KNeighborsClassifier(n_neighbors=3)\n",
        "RandomForestClassifier = RandomForestClassifier(max_depth= 20, max_features='sqrt', n_estimators= 20)\n",
        "svc_classifier = SVC(C= 100, gamma= 0.1, kernel= 'rbf')\n",
        "lr = LogisticRegression(C= 10, l1_ratio= 0.5)\n",
        "mlp_classifier = MLPClassifier(alpha= 0.01, hidden_layer_sizes= 10)\n",
        "maxVotingClassifier = VotingClassifier(estimators=[('KNN', knn_classifier), ('random forest', RandomForestClassifier), ('SVC', svc_classifier),('lr',lr),('mlpc',mlp_classifier)], voting='hard')\n",
        "maxVotingClassifier.fit(X_train, y_train)\n",
        "\n",
        "y_pred = maxVotingClassifier.predict(X_test)\n",
        "print(\"Sklearn Max Voting Classifier Accuracy:\", accuracy_score(y_test, y_pred)*100)"
      ]
    },
    {
      "cell_type": "code",
      "execution_count": null,
      "metadata": {
        "id": "6-rvbIRJWaVT"
      },
      "outputs": [],
      "source": [
        "test_data = pd.read_csv('/content/drive/MyDrive/nba_rookie/Test_data.csv')\n",
        "test_data = scaler.fit_transform(test_data)"
      ]
    },
    {
      "cell_type": "code",
      "execution_count": null,
      "metadata": {
        "id": "u3UZ2x3poynU"
      },
      "outputs": [],
      "source": [
        "preds = model_for_test.predict(test_data)"
      ]
    },
    {
      "cell_type": "code",
      "execution_count": null,
      "metadata": {
        "id": "uhXvGllkYLrq"
      },
      "outputs": [],
      "source": [
        "preds = (pd.DataFrame(preds,columns = ['prediction'])>=0.5).astype(int)"
      ]
    },
    {
      "cell_type": "code",
      "execution_count": null,
      "metadata": {
        "id": "N2arkfenZQ3N"
      },
      "outputs": [],
      "source": [
        "preds.to_csv('/content/drive/MyDrive/preds10.csv', index = False)"
      ]
    },
    {
      "cell_type": "code",
      "execution_count": null,
      "metadata": {
        "id": "fN8pu7aG1gnb"
      },
      "outputs": [],
      "source": [
        ""
      ]
    }
  ],
  "metadata": {
    "colab": {
      "collapsed_sections": [],
      "name": "nba_rookie.ipynb",
      "provenance": [],
      "mount_file_id": "1GZ8ibtAW9sJx6F-bJ-UxYxgG-FqMWnQp",
      "authorship_tag": "ABX9TyO6u6oTTx3ngdjpTpacebAp",
      "include_colab_link": true
    },
    "kernelspec": {
      "display_name": "Python 3",
      "name": "python3"
    },
    "language_info": {
      "name": "python"
    }
  },
  "nbformat": 4,
  "nbformat_minor": 0
}